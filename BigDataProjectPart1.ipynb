{
 "cells": [
  {
   "cell_type": "code",
   "execution_count": null,
   "id": "946da9d8",
   "metadata": {},
   "outputs": [],
   "source": [
    "#all import statments\n",
    "import pandas as pd\n",
    "import numpy as np\n",
    "from ucimlrepo import fetch_ucirepo\n",
    "import random"
   ]
  },
  {
   "cell_type": "code",
   "execution_count": null,
   "id": "fc4143d9",
   "metadata": {},
   "outputs": [],
   "source": [
    "# fetch dataset\n",
    "diabetic_retinopathy_debrecen = fetch_ucirepo(id=329)\n",
    "\n",
    "# data (as pandas dataframes)\n",
    "x = diabetic_retinopathy_debrecen.data.features\n",
    "y = diabetic_retinopathy_debrecen.data.targets\n",
    "\n",
    "# variable information\n",
    "url = 'https://archive.ics.uci.edu/static/public/329/data.csv'\n",
    "\n",
    "# Read the CSV file into a DataFrame\n",
    "df = pd.read_csv(url)\n",
    "df.head()"
   ]
  },
  {
   "cell_type": "markdown",
   "id": "21162b82",
   "metadata": {},
   "source": [
    "# Data Exploration Task 1\n",
    "\n",
    "**Dataset explaination**\n",
    "\n",
    "-> The dataset appears to be related to the assessment of diabetic retinopathy (DR) using various features derived from retinal images. The target variable, 'Class,' is binary, with 1 indicating the presence of signs of DR and 0 indicating no signs of DR.\n",
    "\n",
    "List of Features and Their Purposes:\n",
    "\n",
    "**Binary Features**:\n",
    "\n",
    "* **quality**: Result of quality assessment (0 = poor quality, 1 = adequate quality).\n",
    "* **pre_screening**: The pre-screening result (0 = lack of abnormality, 1 = significant retinal abnormality).\n",
    "* **am_fm_classification**: AM/FM-based binary classification result.\n",
    "\n",
    "**MA Detection Features** :\n",
    "\n",
    "* **ma1 to ma6**: Number of MAs discovered at varying confidence levels (alpha = 0.5 to 1).\n",
    "\n",
    "**Exudate Features**:\n",
    "\n",
    "* **exudate1 to exudate8** :  Data on exudates, normalized by dividing the total number of lesions by the diameter of the ROI (Region of interest).\n",
    "\n",
    "**Distance and Size Features**:\n",
    "\n",
    "* **macula_opticdisc_distance**: The Euclidean distance, normalized with the diameter of the ROI, between the macula and the optic disc centers.\n",
    "\n",
    "* **opticdisc_diameter**: The optic disc's diameter.\n",
    "\n",
    "**Goal Variable**:\n",
    "\n",
    "* **Class**: Class label (1 indicates DR is present, 0 indicates DR is absent)."
   ]
  },
  {
   "cell_type": "markdown",
   "id": "a753e8b6",
   "metadata": {},
   "source": [
    "# Data Exploration Task 2"
   ]
  },
  {
   "cell_type": "code",
   "execution_count": null,
   "id": "472a29ef",
   "metadata": {},
   "outputs": [],
   "source": [
    "missing_values = df.isnull().sum()\n",
    "print(f\"The number of missing values in the dataset are\\n{missing_values}\")"
   ]
  },
  {
   "cell_type": "markdown",
   "id": "4b36e940",
   "metadata": {},
   "source": [
    "There are no missing values in any of the features."
   ]
  },
  {
   "cell_type": "markdown",
   "id": "a3b04cb5",
   "metadata": {},
   "source": [
    "# Data Exploration Task 3"
   ]
  },
  {
   "cell_type": "code",
   "execution_count": null,
   "id": "8886849b",
   "metadata": {},
   "outputs": [],
   "source": [
    "# Choosing the relevant feature for analysis\n",
    "feature_name = 'macula_opticdisc_distance'\n",
    "relevant_feature = df[feature_name]\n",
    "\n",
    "# Calculating individual statistics\n",
    "minimum_value = relevant_feature.min()\n",
    "maximum_value = relevant_feature.max()\n",
    "mean_value = relevant_feature.mean()\n",
    "median_value = relevant_feature.median()\n",
    "mode_value = relevant_feature.mode().values[0]  # Mode may have multiple values, so we take the first one\n",
    "range_value = maximum_value - minimum_value\n",
    "variance_value = relevant_feature.var()\n",
    "std_deviation_value = relevant_feature.std()\n",
    "quartiles = relevant_feature.quantile([0.25, 0.5, 0.75])\n",
    "\n",
    "# Printing the results\n",
    "print(f\"Statistics for {feature_name}:\\n\")\n",
    "print(f\"Minimum: {minimum_value}\")\n",
    "print(f\"Maximum: {maximum_value}\")\n",
    "print(f\"Mean: {mean_value}\")\n",
    "print(f\"Median: {median_value}\")\n",
    "print(f\"Mode: {mode_value}\")\n",
    "print(f\"Range: {range_value}\")\n",
    "print(f\"Variance: {variance_value}\")\n",
    "print(f\"Standard Deviation: {std_deviation_value}\")\n",
    "print(\"\\nQuartiles:\")\n",
    "print(quartiles)\n"
   ]
  },
  {
   "cell_type": "markdown",
   "id": "1961a92b",
   "metadata": {},
   "source": [
    "# Data Exploration Task 4"
   ]
  },
  {
   "cell_type": "code",
   "execution_count": null,
   "id": "e1b0fd7c",
   "metadata": {},
   "outputs": [],
   "source": [
    "# Defining the number of bins and create bins for the feature\n",
    "num_bins = 10\n",
    "bins = pd.cut(df['macula_opticdisc_distance'], num_bins)\n",
    "\n",
    "# Calculating the frequency distribution\n",
    "frequency_distribution = bins.value_counts()\n",
    "\n",
    "# Printing the frequency distribution\n",
    "print(\"Frequency Distribution for 'macula_opticdisc_distance':\")\n",
    "print(frequency_distribution)"
   ]
  },
  {
   "cell_type": "markdown",
   "id": "0d674d7d",
   "metadata": {},
   "source": [
    "# Data Exploration Task 5"
   ]
  },
  {
   "cell_type": "code",
   "execution_count": null,
   "id": "396e239e",
   "metadata": {},
   "outputs": [],
   "source": [
    "# Accessing the bin edges and calculating the mean of each bin\n",
    "bin_edges = frequency_distribution.index.categories\n",
    "mean_frequency_distribution = (bin_edges.left + bin_edges.right) / 2\n",
    "\n",
    "# Calculating the mean of the frequency distribution\n",
    "weighted_mean = (mean_frequency_distribution * frequency_distribution).sum() / frequency_distribution.sum()\n",
    "\n",
    "print(\"Mean of the Frequency Distribution:\", weighted_mean)"
   ]
  },
  {
   "cell_type": "markdown",
   "id": "38061c94",
   "metadata": {},
   "source": [
    "# Data Shaping Task 1"
   ]
  },
  {
   "cell_type": "code",
   "execution_count": null,
   "id": "8816d98e",
   "metadata": {},
   "outputs": [],
   "source": [
    "np.random.seed(42)\n",
    "num_instances = 2000\n",
    "\n",
    "# Creating a DataFrame to store the synthetic data\n",
    "synthetic_data = pd.DataFrame()\n",
    "for column in df.columns:\n",
    "    synthetic_data[column] = np.random.normal(loc=df[column].mean(), scale=df[column].std(), size=num_instances)\n",
    "for column in df.columns:\n",
    "    min_val = df[column].min()\n",
    "    max_val = df[column].max()\n",
    "    synthetic_data[column] = np.clip(synthetic_data[column], min_val, max_val)\n",
    "\n",
    "print(\"Synthetic Data:\", )\n",
    "print(synthetic_data.head())\n",
    "synthetic_data.to_csv('synthetic_data.csv', index=False)"
   ]
  },
  {
   "cell_type": "markdown",
   "id": "a41c53f4",
   "metadata": {},
   "source": [
    "# Data Shaping Task 2"
   ]
  },
  {
   "attachments": {
    "ER%20Diagram.png": {
     "image/png": "[encoded data removed]"
    }
   },
   "cell_type": "markdown",
   "id": "cab889c6",
   "metadata": {},
   "source": [
    "![ER%20Diagram.png](attachment:ER%20Diagram.png)"
   ]
  },
  {
   "cell_type": "markdown",
   "id": "c9eec4f9",
   "metadata": {},
   "source": [
    "1. **PatientInfo Table**:\n",
    "\n",
    "Attributes: patient_id (Primary Key), quality, pre_screening, am_fm_classification\n",
    "\n",
    "*Constraints*:\n",
    "patient_id is the primary key, ensuring each patient has a unique identifier.\n",
    "\n",
    "*Relationships*:\n",
    "One-to-Many relationship with both MADetection and Exudate tables, meaning one patient can have multiple MA detections and multiple exudate records.\n",
    "\n",
    "2. **MADetection Table**:\n",
    "\n",
    "*Attributes*: \n",
    "ma_id (Primary Key), ma1, ma2, ma3, ma4, ma5, ma6, patient_id (Foreign Key)\n",
    "\n",
    "*Constraints*:\n",
    "ma_id is the primary key, ensuring each MA detection record has a unique identifier.\n",
    "patient_id is a foreign key referencing the patient_id in the PatientInfo table, establishing a Many-to-One relationship.\n",
    "\n",
    "*Relationships*:\n",
    "Many-to-One relationship with the PatientInfo table, indicating that multiple MA detections can be associated with a single patient.\n",
    "\n",
    "3. **Exudate Table**:\n",
    "\n",
    "*Attributes*: exudate_id (Primary Key), exudate1, exudate2, exudate3, exudate3_1, exudate5, exudate6, exudate7, exudate8, patient_id (Foreign Key)\n",
    "\n",
    "*Constraints*:\n",
    "exudate_id is the primary key, ensuring each exudate record has a unique identifier.\n",
    "patient_id is a foreign key referencing the patient_id in the PatientInfo table, establishing a Many-to-One relationship.\n",
    "\n",
    "*Relationships*:\n",
    "Many-to-One relationship with the PatientInfo table, indicating that multiple exudate records can be associated with a single patient.\n",
    "\n",
    "**Grouping and Reasoning**:\n",
    "\n",
    "* The tables are grouped based on related entities and their attributes.\n",
    "\n",
    "* PatientInfo serves as the central table containing general patient information.\n",
    "\n",
    "* MADetection and Exudate tables are linked to PatientInfo to represent the relationships between patients and their corresponding MA detections and exudate records.\n",
    "\n",
    "* The design supports the idea that a patient can have multiple MA detections and exudate records, allowing for a flexible representation of the dataset structure.\n",
    "\n",
    "This grouping and relational structure allow for efficient data retrieval and analysis while maintaining data integrity through the use of primary and foreign keys. It reflects the inherent relationships between the entities in the context of diabetic retinopathy assessment."
   ]
  },
  {
   "cell_type": "markdown",
   "id": "dba4aafa",
   "metadata": {},
   "source": [
    "# Data Sampling Task 1"
   ]
  },
  {
   "cell_type": "code",
   "execution_count": null,
   "id": "934fc7b4",
   "metadata": {},
   "outputs": [],
   "source": [
    "def get_sample_from_dataframe(df, sample_size, criteria_func=None):\n",
    "    \"\"\"\n",
    "    Get a random sample from a DataFrame based on specified criteria.\n",
    "\n",
    "    Parameters:\n",
    "    - df: The input DataFrame.\n",
    "    - sample_size: The number of records to include in the sample.\n",
    "    - criteria_func: A function that takes a DataFrame row as input and returns a boolean\n",
    "                    indicating whether the record meets the criteria. If None, default criteria\n",
    "                    based on quality, pre-screening, and classification will be applied.\n",
    "\n",
    "    Returns:\n",
    "    - A DataFrame containing the sampled records.\n",
    "    \"\"\"\n",
    "    if criteria_func is None:\n",
    "        criteria_func = lambda x: x['quality'] == 1 and x['pre_screening'] == 1 and x['am_fm_classification'] == 1\n",
    "\n",
    "    # Applying the criteria function to filter DataFrame rows\n",
    "    filtered_df = df[df.apply(criteria_func, axis=1)]\n",
    "\n",
    "    # Checking if sample size is greater than the number of filtered records\n",
    "    sample_size = min(sample_size, len(filtered_df))\n",
    "    sample_df = filtered_df.sample(n=sample_size)\n",
    "\n",
    "    return sample_df\n",
    "\n",
    "\n",
    "# Getting a sample based on default criteria\n",
    "sample_result_default = get_sample_from_dataframe(df, sample_size=5)\n",
    "print(\"Sampled Data (Default Criteria):\")\n",
    "print(sample_result_default)\n",
    "\n",
    "# Defining a custom criteria function\n",
    "custom_criteria_function = lambda x: x['ma1'] > 2\n",
    "sample_result_custom = get_sample_from_dataframe(df, sample_size=5, criteria_func=custom_criteria_function)\n",
    "print(\"\\nSampled Data (Custom Criteria):\")\n",
    "print(sample_result_custom)\n"
   ]
  },
  {
   "cell_type": "markdown",
   "id": "4473d34a",
   "metadata": {},
   "source": [
    "# Data Sampling Task 2/3 Sample 1 Creation and Descriptive Statistics"
   ]
  },
  {
   "cell_type": "code",
   "execution_count": null,
   "id": "5160ff86",
   "metadata": {},
   "outputs": [],
   "source": [
    "# Sample 1: Low Macula-Optic Disc Distance\n",
    "sample_low_distance = df[df['macula_opticdisc_distance'] < df['macula_opticdisc_distance'].quantile(0.25)].copy()\n",
    "sample_low_distance.to_csv('sample_low_distance.csv', index=False)\n",
    "print(\"first 5 rows of Sample_low_Distance:\")\n",
    "print(sample_low_distance.head())\n",
    "\n",
    "#printing the descriptive statistics of sample 1\n",
    "print(\"\\nDescriptive Statistics for Sample 1 (sample_low_distance):\\n\")\n",
    "print(sample_low_distance.describe())"
   ]
  },
  {
   "cell_type": "markdown",
   "id": "d836ddfe",
   "metadata": {},
   "source": [
    "# Data Sampling Task 2/3 Sample 2 Creation and Descriptive Statistics"
   ]
  },
  {
   "cell_type": "code",
   "execution_count": null,
   "id": "04e03934",
   "metadata": {},
   "outputs": [],
   "source": [
    "# Sample 2: Medium-Low Macula-Optic Disc Distance\n",
    "sample_medium_low_distance = df[(df['macula_opticdisc_distance'] >= df['macula_opticdisc_distance'].quantile(0.25)) &\n",
    "                                (df['macula_opticdisc_distance'] < df['macula_opticdisc_distance'].quantile(0.5))].copy()\n",
    "sample_medium_low_distance.to_csv('sample_medium_low_distance.csv', index=False)\n",
    "print(\"first 5 rows of sample_medium_low_distance:\")\n",
    "print(sample_medium_low_distance.head())\n",
    "\n",
    "#printing the descriptive statistics of sample 2\n",
    "print(\"\\nDescriptive Statistics for Sample 2 (sample_medium_low_distance):\\n\")\n",
    "print(sample_medium_low_distance.describe())"
   ]
  },
  {
   "cell_type": "markdown",
   "id": "cd78e572",
   "metadata": {},
   "source": [
    "# Data Sampling Task 2/3 Sample 3 Creation and Descriptive Statistics"
   ]
  },
  {
   "cell_type": "code",
   "execution_count": null,
   "id": "0de47f0d",
   "metadata": {},
   "outputs": [],
   "source": [
    "# Sample 3: Medium-High Macula-Optic Disc Distance\n",
    "sample_medium_high_distance = df[(df['macula_opticdisc_distance'] >= df['macula_opticdisc_distance'].quantile(0.5)) &\n",
    "                                 (df['macula_opticdisc_distance'] < df['macula_opticdisc_distance'].quantile(0.75))].copy()\n",
    "sample_medium_high_distance.to_csv('sample_medium_high_distance.csv', index=False)\n",
    "print(\"first 5 rows of sample_medium_high_distance:\")\n",
    "print(sample_medium_high_distance.head())\n",
    "\n",
    "#printing the descriptive statistics of sample 3\n",
    "print(\"\\nDescriptive Statistics for Sample 3 (sample_medium_high_distance):\\n\")\n",
    "print(sample_medium_high_distance.describe())"
   ]
  },
  {
   "cell_type": "markdown",
   "id": "50dd2385",
   "metadata": {},
   "source": [
    "# Data Sampling Task 2/3 Sample 4 Creation and Descriptive Statistics"
   ]
  },
  {
   "cell_type": "code",
   "execution_count": null,
   "id": "666476bd",
   "metadata": {},
   "outputs": [],
   "source": [
    "# Sample 4: High Macula-Optic Disc Distance\n",
    "sample_high_distance = df[df['macula_opticdisc_distance'] >= df['macula_opticdisc_distance'].quantile(0.75)].copy()\n",
    "sample_high_distance.to_csv('sample_high_distance.csv', index=False)\n",
    "print(\"first 5 rows of sample_high_distance:\")\n",
    "print(sample_high_distance.head())\n",
    "\n",
    "#printing the descriptive statistics of sample 4\n",
    "print(\"\\nDescriptive Statistics for Sample 4 (sample_high_distance):\\n\")\n",
    "print(sample_high_distance.describe())"
   ]
  }
 ],
 "metadata": {
  "kernelspec": {
   "display_name": "Python 3 (ipykernel)",
   "language": "python",
   "name": "python3"
  },
  "language_info": {
   "codemirror_mode": {
    "name": "ipython",
    "version": 3
   },
   "file_extension": ".py",
   "mimetype": "text/x-python",
   "name": "python",
   "nbconvert_exporter": "python",
   "pygments_lexer": "ipython3",
   "version": "3.11.8"
  }
 },
 "nbformat": 4,
 "nbformat_minor": 5
}
